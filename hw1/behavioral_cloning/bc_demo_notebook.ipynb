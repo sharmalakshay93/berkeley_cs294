{
 "cells": [
  {
   "cell_type": "markdown",
   "metadata": {},
   "source": [
    "## Import modules"
   ]
  },
  {
   "cell_type": "code",
   "execution_count": 1,
   "metadata": {
    "collapsed": true
   },
   "outputs": [],
   "source": [
    "import pickle as pkl\n",
    "import numpy as np\n",
    "from sklearn.model_selection import train_test_split\n",
    "import math\n",
    "import matplotlib.pyplot as plt\n",
    "import torch\n",
    "import torch.nn as nn\n",
    "import torch.nn.functional as F\n",
    "import torchvision.models as models\n",
    "import torch.utils.data\n",
    "import torch.optim as optim\n",
    "import gym\n",
    "%matplotlib inline"
   ]
  },
  {
   "cell_type": "markdown",
   "metadata": {},
   "source": [
    "## Set up data class"
   ]
  },
  {
   "cell_type": "code",
   "execution_count": 2,
   "metadata": {
    "collapsed": true
   },
   "outputs": [],
   "source": [
    "class Data:\n",
    "    def __init__(self, data_file, train_ratio=0.8, batch_size=100):\n",
    "        \n",
    "        assert (train_ratio >= 0 and train_ratio <= 1), \"train_ratio must be in the range (0,1)\"\n",
    "        \n",
    "        self.train_ratio = train_ratio\n",
    "        self.val_ratio = 1 - train_ratio\n",
    "        self.batch_size = batch_size\n",
    "        data = pkl.load(open(data_file, \"rb\"))\n",
    "        \n",
    "        print('Train/val split: {}/{}'.format(self.train_ratio, self.val_ratio))\n",
    "        self.X_train, self.X_val, self.y_train, self.y_val = self.split_data(data)\n",
    "        \n",
    "        self.input_dim = self.X_train.shape[1]\n",
    "        self.output_dim = self.y_train.shape[1]\n",
    "        \n",
    "        train_dataset = torch.utils.data.TensorDataset(torch.from_numpy(self.X_train).float(), torch.from_numpy(self.y_train).float())\n",
    "        val_dataset = torch.utils.data.TensorDataset(torch.from_numpy(self.X_val).float(), torch.from_numpy(self.y_val).float())\n",
    "        \n",
    "        self.train_data_loader = torch.utils.data.DataLoader(train_dataset, batch_size=self.batch_size)\n",
    "        self.val_data_loader = torch.utils.data.DataLoader(val_dataset, batch_size=self.X_val.shape[0])\n",
    "        self.expert_stats = data['returns']\n",
    "        \n",
    "    def split_data(self, data):\n",
    "        '''Split dataset into training and validation sets'''\n",
    "        obs = data['observations']\n",
    "        actions = np.squeeze(data['actions'])\n",
    "        \n",
    "        X_train, X_val, y_train, y_val = \\\n",
    "         train_test_split(obs, actions, test_size=self.val_ratio, random_state=42)\n",
    "        print('splitting and shuffling data:')\n",
    "        print('X_train.shape', X_train.shape)\n",
    "        print('X_val.shape', X_val.shape)\n",
    "        print('y_train.shape', y_train.shape)\n",
    "        print('y_val.shape', y_val.shape)\n",
    "        return X_train, X_val, y_train, y_val\n",
    "    \n",
    "    def get_train_val(self):\n",
    "        return self.train_data_loader, self.val_data_loader"
   ]
  },
  {
   "cell_type": "markdown",
   "metadata": {},
   "source": [
    "## Import expert rollout data"
   ]
  },
  {
   "cell_type": "code",
   "execution_count": 3,
   "metadata": {},
   "outputs": [
    {
     "name": "stdout",
     "output_type": "stream",
     "text": [
      "Train/val split: 0.8/0.19999999999999996\n",
      "splitting and shuffling data:\n",
      "X_train.shape (16000, 11)\n",
      "X_val.shape (4000, 11)\n",
      "y_train.shape (16000, 3)\n",
      "y_val.shape (4000, 3)\n"
     ]
    }
   ],
   "source": [
    "data = Data('./behavioral_cloning/expert_data/Hopper-v2_expert.pkl')\n",
    "train_data_loader, val_data_loader = data.get_train_val()"
   ]
  },
  {
   "cell_type": "markdown",
   "metadata": {},
   "source": [
    "## Create a simple 2-layer network"
   ]
  },
  {
   "cell_type": "code",
   "execution_count": 4,
   "metadata": {
    "collapsed": true
   },
   "outputs": [],
   "source": [
    "class BCNet(nn.Module):\n",
    "    def __init__(self, input_dim, output_dim):\n",
    "        super(BCNet, self).__init__()\n",
    "        self.fc1 = nn.Linear(input_dim, 20)\n",
    "        self.fc2 = nn.Linear(20, output_dim)\n",
    "        \n",
    "    def forward(self, x):\n",
    "        x = F.relu(self.fc1(x))\n",
    "        x = self.fc2(x)\n",
    "        return x\n",
    "        \n",
    "bc_model = BCNet(data.input_dim, data.output_dim)"
   ]
  },
  {
   "cell_type": "markdown",
   "metadata": {},
   "source": [
    "## Create train and test functions"
   ]
  },
  {
   "cell_type": "code",
   "execution_count": 5,
   "metadata": {
    "collapsed": true
   },
   "outputs": [],
   "source": [
    "def train(epochs, network, optimizer, loss_fn, train_loader, test_loader, testing=True):\n",
    "    train_losses = []\n",
    "    val_losses = []\n",
    "    training_step = 0\n",
    "    network.train()\n",
    "    for epoch in range(1, epochs+1):\n",
    "        for batch_idx, (data, target) in enumerate(train_loader):\n",
    "            optimizer.zero_grad()\n",
    "            output = network(data)\n",
    "            loss = loss_fn(output, target)\n",
    "            train_losses.append(loss.item())\n",
    "            loss.backward()\n",
    "            optimizer.step()\n",
    "\n",
    "            training_step += 1\n",
    "\n",
    "            if (training_step % 40 == 0) or (training_step == 1) :\n",
    "                print('Epoch {}; training step {} mse: {:.3f}'.format(epoch, training_step, loss.item()))\n",
    "            \n",
    "        if (testing):\n",
    "            val_losses.append(validate(network, test_loader, loss_fn))   \n",
    "            \n",
    "    return train_losses, val_losses"
   ]
  },
  {
   "cell_type": "code",
   "execution_count": 6,
   "metadata": {
    "collapsed": true
   },
   "outputs": [],
   "source": [
    "def validate(network, test_loader, loss_fn):\n",
    "    loss = 0\n",
    "    steps = 0\n",
    "    network.eval()\n",
    "    \n",
    "    for batch_idx, (data, target) in enumerate(test_loader):\n",
    "        output = network(data)\n",
    "        loss += loss_fn(output, target).item()\n",
    "        steps += 1\n",
    "        \n",
    "    avg_loss = loss / steps\n",
    "    print('Test set mse: {:.3f}'.format(avg_loss))    \n",
    "    return avg_loss"
   ]
  },
  {
   "cell_type": "markdown",
   "metadata": {},
   "source": [
    "## Train and validate network"
   ]
  },
  {
   "cell_type": "code",
   "execution_count": 7,
   "metadata": {},
   "outputs": [
    {
     "name": "stdout",
     "output_type": "stream",
     "text": [
      "Epoch 1; training step 1 mse: 2.710\n",
      "Epoch 1; training step 40 mse: 1.805\n",
      "Epoch 1; training step 80 mse: 1.489\n",
      "Epoch 1; training step 120 mse: 0.904\n",
      "Epoch 1; training step 160 mse: 0.724\n",
      "Test set mse: 0.656\n",
      "Epoch 2; training step 200 mse: 0.442\n",
      "Epoch 2; training step 240 mse: 0.432\n",
      "Epoch 2; training step 280 mse: 0.275\n",
      "Epoch 2; training step 320 mse: 0.298\n",
      "Test set mse: 0.269\n",
      "Epoch 3; training step 360 mse: 0.236\n",
      "Epoch 3; training step 400 mse: 0.241\n",
      "Epoch 3; training step 440 mse: 0.175\n",
      "Epoch 3; training step 480 mse: 0.198\n",
      "Test set mse: 0.174\n",
      "Epoch 4; training step 520 mse: 0.166\n",
      "Epoch 4; training step 560 mse: 0.170\n",
      "Epoch 4; training step 600 mse: 0.128\n",
      "Epoch 4; training step 640 mse: 0.144\n",
      "Test set mse: 0.128\n",
      "Epoch 5; training step 680 mse: 0.130\n",
      "Epoch 5; training step 720 mse: 0.130\n",
      "Epoch 5; training step 760 mse: 0.102\n",
      "Epoch 5; training step 800 mse: 0.112\n",
      "Test set mse: 0.102\n",
      "Epoch 6; training step 840 mse: 0.108\n",
      "Epoch 6; training step 880 mse: 0.106\n",
      "Epoch 6; training step 920 mse: 0.088\n",
      "Epoch 6; training step 960 mse: 0.090\n",
      "Test set mse: 0.085\n",
      "Epoch 7; training step 1000 mse: 0.092\n",
      "Epoch 7; training step 1040 mse: 0.087\n",
      "Epoch 7; training step 1080 mse: 0.079\n",
      "Epoch 7; training step 1120 mse: 0.073\n",
      "Test set mse: 0.072\n",
      "Epoch 8; training step 1160 mse: 0.081\n",
      "Epoch 8; training step 1200 mse: 0.074\n",
      "Epoch 8; training step 1240 mse: 0.072\n",
      "Epoch 8; training step 1280 mse: 0.062\n",
      "Test set mse: 0.064\n",
      "Epoch 9; training step 1320 mse: 0.075\n",
      "Epoch 9; training step 1360 mse: 0.065\n",
      "Epoch 9; training step 1400 mse: 0.068\n",
      "Epoch 9; training step 1440 mse: 0.055\n",
      "Test set mse: 0.058\n",
      "Epoch 10; training step 1480 mse: 0.070\n",
      "Epoch 10; training step 1520 mse: 0.059\n",
      "Epoch 10; training step 1560 mse: 0.064\n",
      "Epoch 10; training step 1600 mse: 0.050\n",
      "Test set mse: 0.053\n"
     ]
    }
   ],
   "source": [
    "bc_model = BCNet(data.input_dim, data.output_dim)\n",
    "optimizer = optim.Adam(bc_model.parameters(), lr=1e-3)\n",
    "loss_fn = nn.MSELoss()\n",
    "train_losses, val_losses = train(10, bc_model, optimizer, loss_fn, train_data_loader, val_data_loader)"
   ]
  },
  {
   "cell_type": "markdown",
   "metadata": {},
   "source": [
    "## Plot training and validation data"
   ]
  },
  {
   "cell_type": "code",
   "execution_count": 8,
   "metadata": {},
   "outputs": [
    {
     "data": {
      "image/png": "[encoded data removed]",
      "text/plain": [
       "<matplotlib.figure.Figure at 0x116815320>"
      ]
     },
     "metadata": {},
     "output_type": "display_data"
    }
   ],
   "source": [
    "plt.plot(train_losses)\n",
    "plt.ylabel('training error')\n",
    "plt.xlabel('training step')\n",
    "plt.show()"
   ]
  },
  {
   "cell_type": "code",
   "execution_count": 9,
   "metadata": {},
   "outputs": [
    {
     "data": {
      "image/png": "[encoded data removed]",
      "text/plain": [
       "<matplotlib.figure.Figure at 0x11a16c4e0>"
      ]
     },
     "metadata": {},
     "output_type": "display_data"
    }
   ],
   "source": [
    "plt.plot(val_losses)\n",
    "plt.ylabel('validation error')\n",
    "plt.xlabel('epoch')\n",
    "plt.show()\n",
    "# note: value for epoch n signifies the loss recorded after completion of epoch n"
   ]
  },
  {
   "cell_type": "markdown",
   "metadata": {},
   "source": [
    "## Test with gym env"
   ]
  },
  {
   "cell_type": "code",
   "execution_count": 10,
   "metadata": {
    "collapsed": true
   },
   "outputs": [],
   "source": [
    "def test_with_gym(policy_fn, rollouts, render, expert_stats):   \n",
    "    gym.logger.set_level(40)\n",
    "    random_seed=42\n",
    "    env = gym.make('Hopper-v2')\n",
    "    env.seed(random_seed)\n",
    "    max_steps = 1000\n",
    "    returns = []\n",
    "    \n",
    "    for i in range(rollouts):\n",
    "        print('iter', i)\n",
    "        obs = env.reset()\n",
    "        done = False\n",
    "        totalr = 0.\n",
    "        steps = 0\n",
    "        \n",
    "        while not done:\n",
    "            action = policy_fn(torch.Tensor(obs)).detach().numpy()\n",
    "            obs, r, done, _ = env.step(action)\n",
    "            totalr += r\n",
    "            steps += 1\n",
    "            \n",
    "            if render:\n",
    "                env.render()\n",
    "            if steps % 100 == 0: \n",
    "                print(\"%i/%i\"%(steps, max_steps))\n",
    "            if steps >= max_steps:\n",
    "                break\n",
    "        print('Number of steps in this rollout: {}'.format(steps))\n",
    "        returns.append(totalr)\n",
    "        \n",
    "    print('bc_model: mean of return', np.mean(returns))\n",
    "    print('bc_model: std of return', np.std(returns))\n",
    "    print('expert: mean of return', expert_stats['mean'])\n",
    "    print('expert: std of return', expert_stats['std'])"
   ]
  },
  {
   "cell_type": "code",
   "execution_count": 11,
   "metadata": {},
   "outputs": [
    {
     "name": "stderr",
     "output_type": "stream",
     "text": [
      "/Users/slakshay/anaconda3/lib/python3.6/site-packages/gym/envs/registration.py:14: PkgResourcesDeprecationWarning: Parameters to load are deprecated.  Call .resolve and .require separately.\n",
      "  result = entry_point.load(False)\n"
     ]
    },
    {
     "name": "stdout",
     "output_type": "stream",
     "text": [
      "iter 0\n",
      "Number of steps in this rollout: 96\n",
      "iter 1\n",
      "Number of steps in this rollout: 96\n",
      "iter 2\n",
      "Number of steps in this rollout: 98\n",
      "iter 3\n",
      "Number of steps in this rollout: 97\n",
      "iter 4\n",
      "Number of steps in this rollout: 97\n",
      "iter 5\n",
      "Number of steps in this rollout: 98\n",
      "iter 6\n",
      "Number of steps in this rollout: 96\n",
      "iter 7\n",
      "Number of steps in this rollout: 98\n",
      "iter 8\n",
      "Number of steps in this rollout: 95\n",
      "iter 9\n",
      "Number of steps in this rollout: 96\n",
      "bc_model: mean of return 192.51994998030992\n",
      "bc_model: std of return 1.0371264944575351\n",
      "expert: mean of return 3777.385137851083\n",
      "expert: std of return 3.1611586814501327\n"
     ]
    }
   ],
   "source": [
    "rollouts = 10\n",
    "render = False\n",
    "random_seed = 42\n",
    "\n",
    "test_with_gym(bc_model, rollouts, render, data.expert_stats)"
   ]
  }
 ],
 "metadata": {
  "kernelspec": {
   "display_name": "Python 3",
   "language": "python",
   "name": "python3"
  },
  "language_info": {
   "codemirror_mode": {
    "name": "ipython",
    "version": 3
   },
   "file_extension": ".py",
   "mimetype": "text/x-python",
   "name": "python",
   "nbconvert_exporter": "python",
   "pygments_lexer": "ipython3",
   "version": "3.6.3"
  }
 },
 "nbformat": 4,
 "nbformat_minor": 2
}
